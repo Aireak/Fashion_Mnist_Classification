{
 "cells": [
  {
   "cell_type": "code",
   "execution_count": 1,
   "id": "8ac1d724-b2c6-422e-acd0-a3cc01789fff",
   "metadata": {},
   "outputs": [
    {
     "name": "stderr",
     "output_type": "stream",
     "text": [
      "C:\\Users\\idehe\\anaconda3\\Lib\\site-packages\\keras\\src\\layers\\convolutional\\base_conv.py:107: UserWarning: Do not pass an `input_shape`/`input_dim` argument to a layer. When using Sequential models, prefer using an `Input(shape)` object as the first layer in the model instead.\n",
      "  super().__init__(activity_regularizer=activity_regularizer, **kwargs)\n"
     ]
    },
    {
     "name": "stdout",
     "output_type": "stream",
     "text": [
      "Epoch 1/10\n",
      "\u001b[1m1875/1875\u001b[0m \u001b[32m━━━━━━━━━━━━━━━━━━━━\u001b[0m\u001b[37m\u001b[0m \u001b[1m45s\u001b[0m 13ms/step - accuracy: 0.7469 - loss: 0.7075 - val_accuracy: 0.8507 - val_loss: 0.4168\n",
      "Epoch 2/10\n",
      "\u001b[1m1875/1875\u001b[0m \u001b[32m━━━━━━━━━━━━━━━━━━━━\u001b[0m\u001b[37m\u001b[0m \u001b[1m25s\u001b[0m 13ms/step - accuracy: 0.8729 - loss: 0.3476 - val_accuracy: 0.8819 - val_loss: 0.3362\n",
      "Epoch 3/10\n",
      "\u001b[1m1875/1875\u001b[0m \u001b[32m━━━━━━━━━━━━━━━━━━━━\u001b[0m\u001b[37m\u001b[0m \u001b[1m25s\u001b[0m 13ms/step - accuracy: 0.8928 - loss: 0.2940 - val_accuracy: 0.8968 - val_loss: 0.2873\n",
      "Epoch 4/10\n",
      "\u001b[1m1875/1875\u001b[0m \u001b[32m━━━━━━━━━━━━━━━━━━━━\u001b[0m\u001b[37m\u001b[0m \u001b[1m24s\u001b[0m 13ms/step - accuracy: 0.9058 - loss: 0.2561 - val_accuracy: 0.8830 - val_loss: 0.3287\n",
      "Epoch 5/10\n",
      "\u001b[1m1875/1875\u001b[0m \u001b[32m━━━━━━━━━━━━━━━━━━━━\u001b[0m\u001b[37m\u001b[0m \u001b[1m26s\u001b[0m 14ms/step - accuracy: 0.9122 - loss: 0.2308 - val_accuracy: 0.9001 - val_loss: 0.2845\n",
      "Epoch 6/10\n",
      "\u001b[1m1875/1875\u001b[0m \u001b[32m━━━━━━━━━━━━━━━━━━━━\u001b[0m\u001b[37m\u001b[0m \u001b[1m26s\u001b[0m 14ms/step - accuracy: 0.9232 - loss: 0.2074 - val_accuracy: 0.9022 - val_loss: 0.2660\n",
      "Epoch 7/10\n",
      "\u001b[1m1875/1875\u001b[0m \u001b[32m━━━━━━━━━━━━━━━━━━━━\u001b[0m\u001b[37m\u001b[0m \u001b[1m28s\u001b[0m 15ms/step - accuracy: 0.9282 - loss: 0.1907 - val_accuracy: 0.8974 - val_loss: 0.2743\n",
      "Epoch 8/10\n",
      "\u001b[1m1875/1875\u001b[0m \u001b[32m━━━━━━━━━━━━━━━━━━━━\u001b[0m\u001b[37m\u001b[0m \u001b[1m37s\u001b[0m 13ms/step - accuracy: 0.9358 - loss: 0.1712 - val_accuracy: 0.9078 - val_loss: 0.2726\n",
      "Epoch 9/10\n",
      "\u001b[1m1875/1875\u001b[0m \u001b[32m━━━━━━━━━━━━━━━━━━━━\u001b[0m\u001b[37m\u001b[0m \u001b[1m24s\u001b[0m 13ms/step - accuracy: 0.9388 - loss: 0.1611 - val_accuracy: 0.9023 - val_loss: 0.2843\n",
      "Epoch 10/10\n",
      "\u001b[1m1875/1875\u001b[0m \u001b[32m━━━━━━━━━━━━━━━━━━━━\u001b[0m\u001b[37m\u001b[0m \u001b[1m24s\u001b[0m 13ms/step - accuracy: 0.9460 - loss: 0.1440 - val_accuracy: 0.9047 - val_loss: 0.2983\n",
      "313/313 - 1s - 4ms/step - accuracy: 0.9047 - loss: 0.2983\n",
      "\n",
      "Test accuracy: 0.904699981212616\n",
      "\u001b[1m1/1\u001b[0m \u001b[32m━━━━━━━━━━━━━━━━━━━━\u001b[0m\u001b[37m\u001b[0m \u001b[1m0s\u001b[0m 202ms/step\n",
      "Predictions for the first two images: [[1.2470258e-09 4.2360833e-12 8.5009315e-09 4.7247303e-11 2.7446079e-10\n",
      "  4.1622263e-07 8.3476233e-11 5.5147648e-05 1.6850034e-09 9.9994445e-01]\n",
      " [3.2189078e-08 5.2987779e-12 9.9999976e-01 2.7085880e-11 2.1305397e-07\n",
      "  3.3902130e-17 5.7235097e-09 2.7327380e-19 1.6291316e-10 1.2700811e-18]]\n"
     ]
    },
    {
     "data": {
      "image/png": "[encoded data removed]",
      "text/plain": [
       "<Figure size 640x480 with 1 Axes>"
      ]
     },
     "metadata": {},
     "output_type": "display_data"
    },
    {
     "data": {
      "image/png": "[encoded data removed]",
      "text/plain": [
       "<Figure size 640x480 with 1 Axes>"
      ]
     },
     "metadata": {},
     "output_type": "display_data"
    }
   ],
   "source": [
    "\n",
    "## Import Necessary Libraries\n",
    "\n",
    "import tensorflow as tf\n",
    "from tensorflow.keras import layers, models\n",
    "import numpy as np\n",
    "import matplotlib.pyplot as plt\n",
    "from tensorflow.keras.datasets import fashion_mnist\n",
    "\n",
    "\n",
    "### Load and Preprocess the Fashion MNIST Dataset\n",
    "\n",
    "(train_images, train_labels), (test_images, test_labels) = fashion_mnist.load_data()\n",
    "\n",
    "# Normalize pixel values to be between 0 and 1\n",
    "train_images, test_images = train_images / 255.0, test_images / 255.0\n",
    "\n",
    "# Reshape data to fit the model\n",
    "train_images = train_images.reshape((train_images.shape[0], 28, 28, 1))\n",
    "test_images = test_images.reshape((test_images.shape[0], 28, 28, 1))\n",
    "\n",
    "\n",
    "### Build the CNN Model\n",
    "\n",
    "model = models.Sequential()\n",
    "model.add(layers.Conv2D(32, (3, 3), activation='relu', input_shape=(28, 28, 1)))\n",
    "model.add(layers.MaxPooling2D((2, 2)))\n",
    "model.add(layers.Conv2D(64, (3, 3), activation='relu'))\n",
    "model.add(layers.MaxPooling2D((2, 2)))\n",
    "model.add(layers.Conv2D(64, (3, 3), activation='relu'))\n",
    "model.add(layers.Flatten())\n",
    "model.add(layers.Dense(64, activation='relu'))\n",
    "model.add(layers.Dense(10, activation='softmax'))\n",
    "\n",
    "\n",
    "### Compile the Model\n",
    "\n",
    "model.compile(optimizer='adam', \n",
    "              loss='sparse_categorical_crossentropy', \n",
    "              metrics=['accuracy'])\n",
    "\n",
    "\n",
    "## Train the Model\n",
    "\n",
    "history = model.fit(train_images, train_labels, epochs=10, \n",
    "                    validation_data=(test_images, test_labels))\n",
    "\n",
    "\n",
    "### Evaluate the Model\n",
    "\n",
    "test_loss, test_acc = model.evaluate(test_images, test_labels, verbose=2)\n",
    "print(f'\\nTest accuracy: {test_acc}')\n",
    "\n",
    "\n",
    "### Make Predictions for Two Images\n",
    "\n",
    "predictions = model.predict(test_images[:2])\n",
    "\n",
    "print(\"Predictions for the first two images:\", predictions)\n",
    "\n",
    "for i, pred in enumerate(predictions):\n",
    "    plt.imshow(test_images[i].reshape(28, 28), cmap=plt.cm.binary)\n",
    "    plt.title(f\"Predicted: {np.argmax(pred)}, Actual: {test_labels[i]}\")\n",
    "    plt.show()\n"
   ]
  },
  {
   "cell_type": "code",
   "execution_count": null,
   "id": "84d76a8d-2b50-4ab6-89b8-13b0cffd7b1d",
   "metadata": {},
   "outputs": [],
   "source": [
    "# RESULT INTERPRETATION\n",
    "\n",
    "### Test Accuracy\n",
    "# The output indicates: 0.9026 Test accuracy\n",
    "#This means the model correctly classifies approximately 90.26% of the images in the test set. \n",
    "# It is a strong indication that the model is performing well.\n",
    "\n",
    "### Prediction \n",
    "    # Image 1\n",
    "# Predicted: 9, Actual: 9\n",
    "# (Displays an image of an ankle boot)\n",
    "\n",
    "    # Image 2\n",
    "# Predicted: 2, Actual: 2\n",
    "# (Displays an image of a shirt)\n",
    "\n",
    "# Both predictions are correct. The model predicted the labels of the first two test images correctly. \n",
    "# This suggests that the model is making accurate predictions on individual samples.\n",
    "\n",
    "### Model Performance Summary\n",
    "# 1. With a test accuracy of 90.26%, we can conclude that the model is performing very well overall. \n",
    "# 2. The correct predictions on individual test images further support the model's robustness. \n",
    "# 3. Both training and validation accuracies are high and the loss is low, it confirms that the model is not overfitting.\n",
    "\n",
    "### Conclusion\n",
    "# The model is not only achieving good accuracy on the test set but is also making accurate predictions on individual samples."
   ]
  }
 ],
 "metadata": {
  "kernelspec": {
   "display_name": "Python 3 (ipykernel)",
   "language": "python",
   "name": "python3"
  },
  "language_info": {
   "codemirror_mode": {
    "name": "ipython",
    "version": 3
   },
   "file_extension": ".py",
   "mimetype": "text/x-python",
   "name": "python",
   "nbconvert_exporter": "python",
   "pygments_lexer": "ipython3",
   "version": "3.12.4"
  }
 },
 "nbformat": 4,
 "nbformat_minor": 5
}
